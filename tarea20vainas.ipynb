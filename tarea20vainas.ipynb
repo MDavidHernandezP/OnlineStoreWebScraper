{
 "cells": [
  {
   "cell_type": "code",
   "execution_count": 5,
   "metadata": {},
   "outputs": [
    {
     "name": "stdout",
     "output_type": "stream",
     "text": [
      "Elemento encontrado en la posición: 5\n"
     ]
    }
   ],
   "source": [
    "#1 binary search\n",
    "arr = [10, 27, 43, 3, 9, 82, 1]\n",
    "\n",
    "target = 82  # Elemento que estás buscando\n",
    "left, right = 0, len(arr) - 1\n",
    "\n",
    "while left <= right:\n",
    "    mid = (left + right) // 2\n",
    "    if arr[mid] == target:\n",
    "        print(\"Elemento encontrado en la posición:\", mid)\n",
    "        break\n",
    "    elif arr[mid] < target:\n",
    "        left = mid + 1\n",
    "    else:\n",
    "        right = mid - 1\n",
    "else:\n",
    "    print(\"Elemento no encontrado\")\n"
   ]
  },
  {
   "cell_type": "code",
   "execution_count": null,
   "metadata": {},
   "outputs": [],
   "source": [
    "#2 merge\n",
    "\n",
    "# longitud del arreglo\n",
    "arr_len = len(arr)\n",
    "\n",
    "# Inicializar una pila con todo el arreglo como el subarreglo inicial\n",
    "stack = [(0, arr_len)]\n",
    "\n",
    "# Continuar el proceso hasta que la pila esté vacía\n",
    "while stack:\n",
    "    # Desapilar el subarreglo superior de la pila\n",
    "    start, end = stack.pop()\n",
    "\n",
    "    # Chequear si el subarreglo tiene más de un elemento\n",
    "    if end - start > 1:\n",
    "        # Calcular el índice medio del subarreglo\n",
    "        mid = (start + end) // 2\n",
    "\n",
    "        # Empujar dos subarreglos a la pila: mitades izquierda y derecha\n",
    "        stack.extend([(start, mid), (mid, end)])\n",
    "\n",
    "        # Fusionar las mitades ordenadas sin usar una función separada\n",
    "        i = j = k = 0\n",
    "        left_half = arr[start:mid]\n",
    "        right_half = arr[mid:end]\n",
    "\n",
    "        # Comparar elementos de ambas mitades y fusionarlos de nuevo en el arreglo original\n",
    "        while i < len(left_half) and j < len(right_half):\n",
    "            if left_half[i] < right_half[j]:\n",
    "                arr[start + k] = left_half[i]\n",
    "                i += 1\n",
    "            else:\n",
    "                arr[start + k] = right_half[j]\n",
    "                j += 1\n",
    "            k += 1\n",
    "\n",
    "        # Copiar los elementos restantes de la mitad izquierda, si los hay\n",
    "        while i < len(left_half):\n",
    "            arr[start + k] = left_half[i]\n",
    "            i += 1\n",
    "            k += 1\n",
    "\n",
    "        # Copiar los elementos restantes de la mitad derecha, si los hay\n",
    "        while j < len(right_half):\n",
    "            arr[start + k] = right_half[j]\n",
    "            j += 1\n",
    "            k += 1\n",
    "\n",
    "# curiresultado\n",
    "\n",
    "print(arr)\n"
   ]
  },
  {
   "cell_type": "code",
   "execution_count": null,
   "metadata": {},
   "outputs": [],
   "source": [
    "#3Quicksort\n",
    "\n",
    "# Pila para realizar el seguimiento de los subarreglos a ordenar\n",
    "stack2 = [(0, len(arr) - 1)]\n",
    "\n",
    "# Mientras haya subarreglos en la pila\n",
    "while stack2:\n",
    "    # Desapilar los límites inferior y superior del subarreglo actual\n",
    "    low, high = stack2.pop()\n",
    "\n",
    "    # Verificar si el subarreglo tiene más de un elemento\n",
    "    if low < high:\n",
    "        # Elegir el último elemento como pivote\n",
    "        pivot = arr[high]\n",
    "        i = low - 1\n",
    "\n",
    "        # Iterar a través del subarreglo para particionar los elementos\n",
    "        for j in range(low, high):\n",
    "            if arr[j] <= pivot:\n",
    "                i += 1\n",
    "                arr[i], arr[j] = arr[j], arr[i]\n",
    "\n",
    "        # Colocar el pivote en su posición final\n",
    "        arr[i + 1], arr[high] = arr[high], arr[i + 1]\n",
    "        partition_index = i + 1\n",
    "\n",
    "        # Empujar los subarreglos izquierdo y derecho a la pila\n",
    "        stack.append((low, partition_index - 1))\n",
    "        stack.append((partition_index + 1, high))\n",
    "\n",
    "print(arr)"
   ]
  },
  {
   "cell_type": "code",
   "execution_count": null,
   "metadata": {},
   "outputs": [],
   "source": [
    "#4.Count Inversions: Given an array, count the number of inversions, where inversion is defined as a pair (i, j) such that i < j and arr[i] > arr[j].\n",
    "\n",
    "n = len(arr)\n",
    "inv_count = 0\n",
    "\n",
    "for i in range(n - 1):\n",
    "    for j in range(i + 1, n):\n",
    "        if arr[i] > arr[j]:\n",
    "            inv_count += 1\n",
    "\n",
    "print(\"Number of inversions:\", inv_count)\n"
   ]
  },
  {
   "cell_type": "code",
   "execution_count": null,
   "metadata": {},
   "outputs": [],
   "source": [
    "max_sum = float('-inf')\n",
    "current_sum = 0\n",
    "\n",
    "for num in arr:\n",
    "    current_sum = max(num, current_sum + num)\n",
    "    max_sum = max(max_sum, current_sum)\n",
    "\n",
    "print(\"Maximum Subarray Sum:\", max_sum)"
   ]
  },
  {
   "cell_type": "code",
   "execution_count": null,
   "metadata": {},
   "outputs": [],
   "source": [
    "#6.Closest Pair of Points:Given a set of points in the plane, find the pair of points with the smallest distance between them.\n",
    "\n",
    "import math\n",
    "\n",
    "P = [(0, 0), (1, 1), (2, 2), (3, 3)] \n",
    "\n",
    "def d(p1, p2):\n",
    "    return math.sqrt((p1[0] - p2[0])**2 + (p1[1] - p2[1])**2)\n",
    "\n",
    "d_min = float('inf')\n",
    "cp = None\n",
    "\n",
    "n = len(P)\n",
    "\n",
    "for i in range(n - 1):\n",
    "    for j in range(i + 1, n):\n",
    "        dist = d(P[i], P[j])\n",
    "        if dist < d_min:\n",
    "            d_min = dist\n",
    "            cp = (P[i], P[j])\n",
    "\n",
    "print(cp)\n",
    "print(d_min)\n"
   ]
  },
  {
   "cell_type": "code",
   "execution_count": null,
   "metadata": {},
   "outputs": [],
   "source": [
    "#7.Matrix Multiplication:Implement a Divide and Conquer algorithm to multiply two matrices.\n",
    "\n",
    "A = [[1, 2, 3],\n",
    "     [4, 5, 6],\n",
    "     [7, 8, 9]]\n",
    "\n",
    "B = [[9, 8, 7],\n",
    "     [6, 5, 4],\n",
    "     [3, 2, 1]]\n",
    "\n",
    "n = len(A)\n",
    "result = [[0 for _ in range(n)] for _ in range(n)]\n",
    "\n",
    "for i in range(n):\n",
    "    for j in range(n):\n",
    "        for k in range(n):\n",
    "            result[i][j] += A[i][k] * B[k][j]\n",
    "\n",
    "print(\"\\nMatrix Multiplication Result:\")\n",
    "for row in result:\n",
    "    print(row)\n"
   ]
  },
  {
   "cell_type": "code",
   "execution_count": 2,
   "metadata": {},
   "outputs": [
    {
     "name": "stdout",
     "output_type": "stream",
     "text": [
      "Result: 32\n"
     ]
    }
   ],
   "source": [
    "#8.Power Function:Implement a function to calculate the power of a number using the Divide and Conquer approach.\n",
    "b = 2\n",
    "e = 5\n",
    "\n",
    "r = 1\n",
    "\n",
    "while e > 0:\n",
    "    if e % 2 == 1:\n",
    "        r *= b\n",
    "    b *= b\n",
    "    e //= 2\n",
    "\n",
    "print(\"Result:\", r)\n"
   ]
  },
  {
   "cell_type": "code",
   "execution_count": 3,
   "metadata": {},
   "outputs": [
    {
     "name": "stdout",
     "output_type": "stream",
     "text": [
      "Result: 7006652\n"
     ]
    }
   ],
   "source": [
    "#9.Karatsuba Algorithm:Implement the Karatsuba algorithm to multiply two large integers.\n",
    "\n",
    "a = 1234\n",
    "b = 5678\n",
    "\n",
    "a_str = str(a)\n",
    "b_str = str(b)\n",
    "\n",
    "# Pad with leading zeros if necessary\n",
    "max_len = max(len(a_str), len(b_str))\n",
    "a_str = a_str.zfill(max_len)\n",
    "b_str = b_str.zfill(max_len)\n",
    "\n",
    "\n",
    "if max_len == 1:\n",
    "    result = int(a_str) * int(b_str)\n",
    "else:\n",
    "    m = max_len // 2\n",
    "\n",
    "    # Split the numbers into two halves\n",
    "    a_high, a_low = a_str[:-m], a_str[-m:]\n",
    "    b_high, b_low = b_str[:-m], b_str[-m:]\n",
    "\n",
    "    # Recursive steps\n",
    "    ac = int(a_high) * int(b_high)\n",
    "    bd = int(a_low) * int(b_low)\n",
    "    ad_bc = (int(a_high) + int(a_low)) * (int(b_high) + int(b_low)) - ac - bd\n",
    "\n",
    "    # Combine the results\n",
    "    r = 10**(2*m) * ac + 10**m * ad_bc + bd\n",
    "\n",
    "print(r)\n"
   ]
  },
  {
   "cell_type": "code",
   "execution_count": 7,
   "metadata": {},
   "outputs": [
    {
     "name": "stdout",
     "output_type": "stream",
     "text": [
      "Majority Element: 4\n"
     ]
    }
   ],
   "source": [
    "#10.Finding the Majority Element:Given an array, find the element that appears more than n/2 times.\n",
    "\n",
    "arr = [3, 3, 4, 2, 4, 4, 2, 4, 4]\n",
    "\n",
    "potential_majority = None\n",
    "count = 0\n",
    "\n",
    "for num in arr:\n",
    "    if count == 0:\n",
    "        potential_majority = num\n",
    "        count = 1\n",
    "    elif num == potential_majority:\n",
    "        count += 1\n",
    "    else:\n",
    "        count -= 1\n",
    "\n",
    "# Validate if the potential majority is the actual majority element\n",
    "count_majority = arr.count(potential_majority)\n",
    "\n",
    "if count_majority > len(arr) // 2:\n",
    "    print(\"Majority Element:\", potential_majority)\n",
    "else:\n",
    "    print(\"No Majority Element\")\n"
   ]
  },
  {
   "cell_type": "code",
   "execution_count": null,
   "metadata": {},
   "outputs": [],
   "source": [
    "#11.Kth Smallest Element in an Array:Find the kth smallest element in an unsorted array.\n",
    "\n",
    "arr = [7, 10, 4, 3, 20, 15]  \n",
    "k = 3  \n",
    "\n",
    "arr.sort()\n",
    "if 1 <= k <= len(arr):\n",
    "    kth_smallest = arr[k - 1]\n",
    "    print(kth_smallest)\n"
   ]
  },
  {
   "cell_type": "code",
   "execution_count": 8,
   "metadata": {},
   "outputs": [
    {
     "name": "stdout",
     "output_type": "stream",
     "text": [
      "30\n"
     ]
    }
   ],
   "source": [
    "#12.Optimal Binary Search Tree:Given a sorted array of keys, construct an optimal binary search tree.\n",
    "\n",
    "keys = [1, 2, 3, 4, 5]  \n",
    "n = len(keys)\n",
    "\n",
    "cost = [[0] * (n + 1) for _ in range(n + 1)]\n",
    "\n",
    "for length in range(1, n + 1):\n",
    "    for i in range(n - length + 1):\n",
    "        j = i + length - 1\n",
    "        cost[i][j] = float('inf')\n",
    "\n",
    "        for r in range(i, j + 1):\n",
    "            c = cost[i][r - 1] + sum(keys[i:j + 1]) + cost[r + 1][j]\n",
    "\n",
    "            if c < cost[i][j]:\n",
    "                cost[i][j] = c\n",
    "\n",
    "print(cost[0][n - 1])\n"
   ]
  },
  {
   "cell_type": "code",
   "execution_count": 9,
   "metadata": {},
   "outputs": [
    {
     "name": "stdout",
     "output_type": "stream",
     "text": [
      "6\n"
     ]
    }
   ],
   "source": [
    "#13.Counting Inversions in an Array:Count the number of inversions in an unsorted array using the Divide and Conquer approach.\n",
    "\n",
    "arr = [8, 4, 2, 1] \n",
    "\n",
    "n = len(arr)\n",
    "inv_count = 0\n",
    "\n",
    "for i in range(n - 1):\n",
    "    for j in range(i + 1, n):\n",
    "        if arr[i] > arr[j]:\n",
    "            inv_count += 1\n",
    "\n",
    "print(inv_count)\n"
   ]
  },
  {
   "cell_type": "code",
   "execution_count": 10,
   "metadata": {},
   "outputs": [
    {
     "name": "stdout",
     "output_type": "stream",
     "text": [
      "48\n"
     ]
    }
   ],
   "source": [
    "#14.Maximum Product Subarray:Find the contiguous subarray with the maximum product of its elements.\n",
    "\n",
    "a = [2, 3, -2, 4, -1]  \n",
    "x = float('-inf')\n",
    "m = 1\n",
    "n = 1\n",
    "\n",
    "for y in a:\n",
    "    if y < 0:\n",
    "        m, n = n, m\n",
    "\n",
    "    m = max(y, m * y)\n",
    "    n = min(y, n * y)\n",
    "\n",
    "    x = max(x, m)\n",
    "\n",
    "print(x)\n"
   ]
  },
  {
   "cell_type": "code",
   "execution_count": 12,
   "metadata": {},
   "outputs": [
    {
     "name": "stdout",
     "output_type": "stream",
     "text": [
      "20\n"
     ]
    }
   ],
   "source": [
    "#15.Finding the Peak Element:Find a peak element in an array, where an element is greater than or equal to its neighbors.\n",
    "a = [1, 3, 20, 4, 1, 0] \n",
    "\n",
    "n = len(a)\n",
    "\n",
    "for i in range(1, n - 1):\n",
    "    if a[i] >= a[i - 1] and a[i] >= a[i + 1]:\n",
    "        p = a[i]\n",
    "        break\n",
    "else:\n",
    "    p = max(a[0], a[-1])\n",
    "\n",
    "print(p)\n"
   ]
  },
  {
   "cell_type": "code",
   "execution_count": null,
   "metadata": {},
   "outputs": [],
   "source": [
    "#16.Square Root of a Number:Implement an algorithm to find the square root of a non-negative integer using the Divide and Conquer approach.\n",
    "n = 25  # Replace with the non-negative integer\n",
    "\n",
    "if n == 0 or n == 1:\n",
    "    r = n\n",
    "else:\n",
    "    l, h, e = 0, n, 1e-9\n",
    "\n",
    "    while h - l > e:\n",
    "        m = (l + h) / 2\n",
    "        m2 = m * m\n",
    "\n",
    "        if m2 < n:\n",
    "            l = m\n",
    "        else:\n",
    "            h = m\n",
    "\n",
    "    r = l\n",
    "\n",
    "print(\"Square Root of\", n, \"is approximately:\", r)\n"
   ]
  },
  {
   "cell_type": "code",
   "execution_count": 13,
   "metadata": {},
   "outputs": [
    {
     "name": "stdout",
     "output_type": "stream",
     "text": [
      "99\n"
     ]
    }
   ],
   "source": [
    "#17- Find the maximum sum rectangle in a 2D matrix.\n",
    "\n",
    "matrix = [[1, 2, -1, -4, -20],   \n",
    "          [-8, -3, 4, 2, 1],\n",
    "          [3, 8, 10, 1, 3],\n",
    "          [-4, -1, 1, 7, -6]]\n",
    "\n",
    "rows, cols = len(matrix), len(matrix[0])  \n",
    "max_sum = float('-inf')  # Initialize the maximum sum variable with negative infinity\n",
    "\n",
    "for left in range(cols):  # Iterate through each possible left column\n",
    "    temp = [0] * rows  # Initialize a temporary array to store the running sum for each row\n",
    "    for right in range(left, cols):  # Iterate through each possible right column\n",
    "        for i in range(rows):  # Calculate the running sum for each row within the current column range\n",
    "            temp[i] += matrix[i][right]\n",
    "        current_sum = max(0, temp[0])  # Initialize the current sum with the maximum of 0 and the first row's running sum\n",
    "        max_sum = max(max_sum, current_sum)  # Update the maximum sum with the maximum of the current sum and the existing maximum sum\n",
    "        for i in range(1, rows):  # Iterate through the remaining rows\n",
    "            temp[i] = max(temp[i], temp[i-1] + temp[i])  # Update the running sum for the current row\n",
    "            current_sum = max(current_sum, temp[i])  # Update the current sum with the maximum of the current row's running sum\n",
    "            max_sum = max(max_sum, current_sum)  # Update the maximum sum with the maximum of the current sum and the existing maximum sum\n",
    "\n",
    "print(max_sum)  # Print the final maximum sum rectangle"
   ]
  },
  {
   "cell_type": "code",
   "execution_count": 15,
   "metadata": {},
   "outputs": [
    {
     "ename": "NameError",
     "evalue": "name 'max_xor' is not defined",
     "output_type": "error",
     "traceback": [
      "\u001b[1;31m---------------------------------------------------------------------------\u001b[0m",
      "\u001b[1;31mNameError\u001b[0m                                 Traceback (most recent call last)",
      "Cell \u001b[1;32mIn[15], line 9\u001b[0m\n\u001b[0;32m      7\u001b[0m mask \u001b[38;5;241m|\u001b[39m\u001b[38;5;241m=\u001b[39m (\u001b[38;5;241m1\u001b[39m \u001b[38;5;241m<<\u001b[39m i)\n\u001b[0;32m      8\u001b[0m prefixes \u001b[38;5;241m=\u001b[39m \u001b[38;5;28mset\u001b[39m()\n\u001b[1;32m----> 9\u001b[0m current_xor \u001b[38;5;241m=\u001b[39m \u001b[43mmax_xor\u001b[49m \u001b[38;5;241m|\u001b[39m (\u001b[38;5;241m1\u001b[39m \u001b[38;5;241m<<\u001b[39m i)\n\u001b[0;32m     11\u001b[0m \u001b[38;5;28;01mfor\u001b[39;00m num \u001b[38;5;129;01min\u001b[39;00m nums:\n\u001b[0;32m     12\u001b[0m     prefixes\u001b[38;5;241m.\u001b[39madd(num \u001b[38;5;241m&\u001b[39m mask)\n",
      "\u001b[1;31mNameError\u001b[0m: name 'max_xor' is not defined"
     ]
    }
   ],
   "source": [
    "#18- Find the maximum XOR value of a subarray in a given array of integers.\n",
    "\n",
    "nums = [3, 10, 5, 25, 2, 8]  \n",
    "mask = 0\n",
    "\n",
    "for i in range(30, -1, -1):\n",
    "    mask |= (1 << i)\n",
    "    prefixes = set()\n",
    "    current_xor = max_xor | (1 << i)\n",
    "\n",
    "    for num in nums:\n",
    "        prefixes.add(num & mask)\n",
    "\n",
    "    for prefix in prefixes:\n",
    "        if (current_xor ^ prefix) in prefixes:\n",
    "            max_xor = current_xor\n",
    "            break\n",
    "\n",
    "print(max_xor)\n"
   ]
  },
  {
   "cell_type": "code",
   "execution_count": 16,
   "metadata": {},
   "outputs": [
    {
     "name": "stdout",
     "output_type": "stream",
     "text": [
      "6\n"
     ]
    }
   ],
   "source": [
    "#19-Find the length of the longest increasing subsequence in an array.\n",
    "\n",
    "nums = [10, 22, 9, 33, 21, 50, 41, 60, 80]  # Replace with your array of integers\n",
    "n = len(nums)\n",
    "lis = [1] * n\n",
    "\n",
    "for i in range(1, n):\n",
    "    for j in range(i):\n",
    "        if nums[i] > nums[j] and lis[i] < lis[j] + 1:\n",
    "            lis[i] = lis[j] + 1\n",
    "\n",
    "max_length = max(lis)\n",
    "print(max_length)\n"
   ]
  },
  {
   "cell_type": "code",
   "execution_count": 17,
   "metadata": {},
   "outputs": [
    {
     "name": "stdout",
     "output_type": "stream",
     "text": [
      "[(0, 3), (2, 1), (3, 0), (0, 0), (3, 3)]\n"
     ]
    }
   ],
   "source": [
    "\n",
    "#20 Implement an algorithm to find the convex hull of a set of points in the plane.\n",
    "\n",
    "points = [(0, 3), (2, 2), (1, 1), (2, 1), (3, 0), (0, 0), (3, 3)]\n",
    "n = len(points)\n",
    "\n",
    "# Check if convex hull is possible with at least 3 points\n",
    "if n < 3:\n",
    "    print(\"Convex hull not possible with less than 3 points.\")\n",
    "else:\n",
    "    hull = []  # List to store the convex hull points\n",
    "    l = min(range(n), key=lambda i: points[i][0])  # Find the leftmost point\n",
    "    p = l\n",
    "    q = 0\n",
    "\n",
    "    # Gift Wrapping Algorithm\n",
    "    while True:\n",
    "        hull.append(points[p])  # Add the current point to the convex hull\n",
    "        q = (p + 1) % n\n",
    "        for i in range(n):\n",
    "            # Calculate orientation to find the next convex hull point\n",
    "            val = (points[q][1] - points[p][1]) * (points[i][0] - points[q][0]) - (points[q][0] - points[p][0]) * (points[i][1] - points[q][1])\n",
    "            if val == 2:\n",
    "                q = i\n",
    "        p = q\n",
    "        if p == l:\n",
    "            break\n",
    "\n",
    "    print(hull)  \n",
    "\n"
   ]
  }
 ],
 "metadata": {
  "kernelspec": {
   "display_name": "Python 3",
   "language": "python",
   "name": "python3"
  },
  "language_info": {
   "codemirror_mode": {
    "name": "ipython",
    "version": 3
   },
   "file_extension": ".py",
   "mimetype": "text/x-python",
   "name": "python",
   "nbconvert_exporter": "python",
   "pygments_lexer": "ipython3",
   "version": "3.12.1"
  }
 },
 "nbformat": 4,
 "nbformat_minor": 2
}
